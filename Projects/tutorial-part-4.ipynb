{
 "cells": [
  {
   "cell_type": "code",
   "execution_count": 3,
   "id": "39b3ae85-9fa3-42c4-8b52-674d256dd8e6",
   "metadata": {},
   "outputs": [],
   "source": [
    "from pyspark.sql import SparkSession\n",
    "# spark.conf.set('spark.sql.repl.eagerEval.enabled', True)"
   ]
  },
  {
   "cell_type": "code",
   "execution_count": 4,
   "id": "715a7f3a-3d84-4fb3-89ff-a190c3e8de52",
   "metadata": {},
   "outputs": [
    {
     "name": "stdout",
     "output_type": "stream",
     "text": [
      "22/10/26 00:53:21 WARN Utils: Your hostname, paco-System-Product-Name resolves to a loopback address: 127.0.1.1; using 192.168.1.74 instead (on interface wlp5s0)\n",
      "22/10/26 00:53:21 WARN Utils: Set SPARK_LOCAL_IP if you need to bind to another address\n"
     ]
    },
    {
     "name": "stderr",
     "output_type": "stream",
     "text": [
      "Setting default log level to \"WARN\".\n",
      "To adjust logging level use sc.setLogLevel(newLevel). For SparkR, use setLogLevel(newLevel).\n"
     ]
    },
    {
     "name": "stdout",
     "output_type": "stream",
     "text": [
      "22/10/26 00:53:21 WARN NativeCodeLoader: Unable to load native-hadoop library for your platform... using builtin-java classes where applicable\n"
     ]
    }
   ],
   "source": [
    "spark = SparkSession.builder.appName('dataframe').getOrCreate()"
   ]
  },
  {
   "cell_type": "code",
   "execution_count": 5,
   "id": "b978e561-5fb1-49ff-af7a-db62dd196ee6",
   "metadata": {},
   "outputs": [],
   "source": [
    "spark.conf.set('spark.sql.repl.eagerEval.enabled', True)"
   ]
  },
  {
   "cell_type": "code",
   "execution_count": 11,
   "id": "c5495e4d-2a11-4eb0-882b-ed67f663fcdd",
   "metadata": {},
   "outputs": [],
   "source": [
    "df_pyspark = spark.read.csv('files/test1.csv', header=True, inferSchema=True)\n"
   ]
  },
  {
   "cell_type": "code",
   "execution_count": 14,
   "id": "b5f17f4b-391f-4ca7-a707-189d6e35b8e0",
   "metadata": {},
   "outputs": [
    {
     "name": "stdout",
     "output_type": "stream",
     "text": [
      "+---------+---+----------+------+\n",
      "|     Name|age|Experience|Salary|\n",
      "+---------+---+----------+------+\n",
      "|    Krish| 31|        10| 30000|\n",
      "|Sudhanshu| 30|         8| 25000|\n",
      "+---------+---+----------+------+\n",
      "only showing top 2 rows\n",
      "\n"
     ]
    }
   ],
   "source": [
    "df_pyspark.show(2)"
   ]
  },
  {
   "cell_type": "markdown",
   "id": "926b7a2b-1b4d-44ef-b48e-653ec0740305",
   "metadata": {
    "tags": []
   },
   "source": [
    "# Fileter operations"
   ]
  },
  {
   "cell_type": "code",
   "execution_count": 16,
   "id": "4282b0cf-15ba-4738-9021-8858f68a9b75",
   "metadata": {},
   "outputs": [
    {
     "name": "stdout",
     "output_type": "stream",
     "text": [
      "+-------+---+----------+------+\n",
      "|   Name|age|Experience|Salary|\n",
      "+-------+---+----------+------+\n",
      "|  Sunny| 29|         4| 20000|\n",
      "|   Paul| 24|         3| 20000|\n",
      "| Harsha| 21|         1| 15000|\n",
      "|Shubham| 23|         2| 18000|\n",
      "+-------+---+----------+------+\n",
      "\n"
     ]
    }
   ],
   "source": [
    "# Salary of the people less than or equal to 20000\n",
    "df_pyspark.filter(\"Salary<=20000\").show()"
   ]
  },
  {
   "cell_type": "code",
   "execution_count": 17,
   "id": "b3e55f56-9ca6-487f-afc4-6e8b301d2b31",
   "metadata": {},
   "outputs": [
    {
     "data": {
      "text/html": [
       "<table border='1'>\n",
       "<tr><th>Name</th><th>age</th></tr>\n",
       "<tr><td>Sunny</td><td>29</td></tr>\n",
       "<tr><td>Paul</td><td>24</td></tr>\n",
       "<tr><td>Harsha</td><td>21</td></tr>\n",
       "<tr><td>Shubham</td><td>23</td></tr>\n",
       "</table>\n"
      ],
      "text/plain": [
       "+-------+---+\n",
       "|   Name|age|\n",
       "+-------+---+\n",
       "|  Sunny| 29|\n",
       "|   Paul| 24|\n",
       "| Harsha| 21|\n",
       "|Shubham| 23|\n",
       "+-------+---+"
      ]
     },
     "execution_count": 17,
     "metadata": {},
     "output_type": "execute_result"
    }
   ],
   "source": [
    "df_pyspark.filter(\"Salary<=20000\").select(['Name', 'age'])"
   ]
  },
  {
   "cell_type": "code",
   "execution_count": 18,
   "id": "f84244b8-365b-445a-ac63-5bf3acdc06c4",
   "metadata": {},
   "outputs": [
    {
     "data": {
      "text/html": [
       "<table border='1'>\n",
       "<tr><th>Name</th><th>age</th><th>Experience</th><th>Salary</th></tr>\n",
       "<tr><td>Sunny</td><td>29</td><td>4</td><td>20000</td></tr>\n",
       "<tr><td>Paul</td><td>24</td><td>3</td><td>20000</td></tr>\n",
       "<tr><td>Harsha</td><td>21</td><td>1</td><td>15000</td></tr>\n",
       "<tr><td>Shubham</td><td>23</td><td>2</td><td>18000</td></tr>\n",
       "</table>\n"
      ],
      "text/plain": [
       "+-------+---+----------+------+\n",
       "|   Name|age|Experience|Salary|\n",
       "+-------+---+----------+------+\n",
       "|  Sunny| 29|         4| 20000|\n",
       "|   Paul| 24|         3| 20000|\n",
       "| Harsha| 21|         1| 15000|\n",
       "|Shubham| 23|         2| 18000|\n",
       "+-------+---+----------+------+"
      ]
     },
     "execution_count": 18,
     "metadata": {},
     "output_type": "execute_result"
    }
   ],
   "source": [
    "df_pyspark.filter(\n",
    "    df_pyspark['Salary']<=20000\n",
    ")"
   ]
  },
  {
   "cell_type": "code",
   "execution_count": 22,
   "id": "56f8c20d-8ea4-4b51-8462-0e20ca9294ee",
   "metadata": {},
   "outputs": [
    {
     "data": {
      "text/html": [
       "<table border='1'>\n",
       "<tr><th>Name</th><th>age</th><th>Experience</th><th>Salary</th></tr>\n",
       "<tr><td>Sunny</td><td>29</td><td>4</td><td>20000</td></tr>\n",
       "<tr><td>Paul</td><td>24</td><td>3</td><td>20000</td></tr>\n",
       "<tr><td>Harsha</td><td>21</td><td>1</td><td>15000</td></tr>\n",
       "<tr><td>Shubham</td><td>23</td><td>2</td><td>18000</td></tr>\n",
       "</table>\n"
      ],
      "text/plain": [
       "+-------+---+----------+------+\n",
       "|   Name|age|Experience|Salary|\n",
       "+-------+---+----------+------+\n",
       "|  Sunny| 29|         4| 20000|\n",
       "|   Paul| 24|         3| 20000|\n",
       "| Harsha| 21|         1| 15000|\n",
       "|Shubham| 23|         2| 18000|\n",
       "+-------+---+----------+------+"
      ]
     },
     "execution_count": 22,
     "metadata": {},
     "output_type": "execute_result"
    }
   ],
   "source": [
    "df_pyspark.filter(\n",
    "    (df_pyspark['Salary']<=20000) & \n",
    "    (df_pyspark['Salary']>=15000)\n",
    ")"
   ]
  },
  {
   "cell_type": "code",
   "execution_count": 23,
   "id": "343e5751-9f41-46be-8c74-a801184b9f49",
   "metadata": {},
   "outputs": [
    {
     "data": {
      "text/html": [
       "<table border='1'>\n",
       "<tr><th>Name</th><th>age</th><th>Experience</th><th>Salary</th></tr>\n",
       "<tr><td>Krish</td><td>31</td><td>10</td><td>30000</td></tr>\n",
       "<tr><td>Sudhanshu</td><td>30</td><td>8</td><td>25000</td></tr>\n",
       "<tr><td>Sunny</td><td>29</td><td>4</td><td>20000</td></tr>\n",
       "<tr><td>Paul</td><td>24</td><td>3</td><td>20000</td></tr>\n",
       "<tr><td>Harsha</td><td>21</td><td>1</td><td>15000</td></tr>\n",
       "<tr><td>Shubham</td><td>23</td><td>2</td><td>18000</td></tr>\n",
       "</table>\n"
      ],
      "text/plain": [
       "+---------+---+----------+------+\n",
       "|     Name|age|Experience|Salary|\n",
       "+---------+---+----------+------+\n",
       "|    Krish| 31|        10| 30000|\n",
       "|Sudhanshu| 30|         8| 25000|\n",
       "|    Sunny| 29|         4| 20000|\n",
       "|     Paul| 24|         3| 20000|\n",
       "|   Harsha| 21|         1| 15000|\n",
       "|  Shubham| 23|         2| 18000|\n",
       "+---------+---+----------+------+"
      ]
     },
     "execution_count": 23,
     "metadata": {},
     "output_type": "execute_result"
    }
   ],
   "source": [
    "df_pyspark.filter(\n",
    "    (df_pyspark['Salary']<=20000) | \n",
    "    (df_pyspark['Salary']>=15000)\n",
    ")"
   ]
  },
  {
   "cell_type": "code",
   "execution_count": 25,
   "id": "e8186dcd-0021-4db1-8da8-efe29eabef61",
   "metadata": {},
   "outputs": [
    {
     "data": {
      "text/html": [
       "<table border='1'>\n",
       "<tr><th>Name</th><th>age</th><th>Experience</th><th>Salary</th></tr>\n",
       "<tr><td>Krish</td><td>31</td><td>10</td><td>30000</td></tr>\n",
       "<tr><td>Sudhanshu</td><td>30</td><td>8</td><td>25000</td></tr>\n",
       "</table>\n"
      ],
      "text/plain": [
       "+---------+---+----------+------+\n",
       "|     Name|age|Experience|Salary|\n",
       "+---------+---+----------+------+\n",
       "|    Krish| 31|        10| 30000|\n",
       "|Sudhanshu| 30|         8| 25000|\n",
       "+---------+---+----------+------+"
      ]
     },
     "execution_count": 25,
     "metadata": {},
     "output_type": "execute_result"
    }
   ],
   "source": [
    "df_pyspark.filter(\n",
    "    ~(df_pyspark['Salary']<=20000)\n",
    ")"
   ]
  },
  {
   "cell_type": "code",
   "execution_count": null,
   "id": "e7b8106c-1eea-48ce-bd2a-0e71af648064",
   "metadata": {},
   "outputs": [],
   "source": []
  }
 ],
 "metadata": {
  "kernelspec": {
   "display_name": "Python 3 (ipykernel)",
   "language": "python",
   "name": "python3"
  },
  "language_info": {
   "codemirror_mode": {
    "name": "ipython",
    "version": 3
   },
   "file_extension": ".py",
   "mimetype": "text/x-python",
   "name": "python",
   "nbconvert_exporter": "python",
   "pygments_lexer": "ipython3",
   "version": "3.8.10"
  }
 },
 "nbformat": 4,
 "nbformat_minor": 5
}
