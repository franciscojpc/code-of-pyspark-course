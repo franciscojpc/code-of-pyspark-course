{
 "cells": [
  {
   "cell_type": "code",
   "execution_count": 9,
   "id": "27cd1e88-ccaf-4202-8eb2-d8d866170822",
   "metadata": {},
   "outputs": [],
   "source": [
    "from pyspark.sql import SparkSession\n",
    "\n",
    "spark = SparkSession.builder.appName('Agg').getOrCreate()\n",
    "spark.conf.set('spark.sql.repl.eagerEval.enabled', True)"
   ]
  },
  {
   "cell_type": "code",
   "execution_count": 10,
   "id": "e2f8ebbd-ae98-413f-8aec-505c2442e990",
   "metadata": {},
   "outputs": [
    {
     "data": {
      "text/html": [
       "\n",
       "            <div>\n",
       "                <p><b>SparkSession - in-memory</b></p>\n",
       "                \n",
       "        <div>\n",
       "            <p><b>SparkContext</b></p>\n",
       "\n",
       "            <p><a href=\"http://192.168.1.74:4040\">Spark UI</a></p>\n",
       "\n",
       "            <dl>\n",
       "              <dt>Version</dt>\n",
       "                <dd><code>v3.3.0</code></dd>\n",
       "              <dt>Master</dt>\n",
       "                <dd><code>local[*]</code></dd>\n",
       "              <dt>AppName</dt>\n",
       "                <dd><code>pyspark-shell</code></dd>\n",
       "            </dl>\n",
       "        </div>\n",
       "        \n",
       "            </div>\n",
       "        "
      ],
      "text/plain": [
       "<pyspark.sql.session.SparkSession at 0x7fd3a90e90a0>"
      ]
     },
     "execution_count": 10,
     "metadata": {},
     "output_type": "execute_result"
    }
   ],
   "source": [
    "spark"
   ]
  },
  {
   "cell_type": "code",
   "execution_count": 11,
   "id": "46cd4e91-cefc-4cc6-9cd3-c78b21a58680",
   "metadata": {},
   "outputs": [],
   "source": [
    "df_pyspark = spark.read.csv('files/test3.csv', header=True, inferSchema=True)"
   ]
  },
  {
   "cell_type": "code",
   "execution_count": 12,
   "id": "dfc43e18-a3c4-45db-92f9-643eae381b74",
   "metadata": {},
   "outputs": [
    {
     "data": {
      "text/html": [
       "<table border='1'>\n",
       "<tr><th>Name</th><th>Departments</th><th>salary</th></tr>\n",
       "<tr><td>Krish</td><td>Data Science</td><td>10000</td></tr>\n",
       "<tr><td>Krish</td><td>IOT</td><td>5000</td></tr>\n",
       "<tr><td>Mahesh</td><td>Big Data</td><td>4000</td></tr>\n",
       "<tr><td>Krish</td><td>Big Data</td><td>4000</td></tr>\n",
       "<tr><td>Mahesh</td><td>Data Science</td><td>3000</td></tr>\n",
       "<tr><td>Sudhanshu</td><td>Data Science</td><td>20000</td></tr>\n",
       "<tr><td>Sudhanshu</td><td>IOT</td><td>10000</td></tr>\n",
       "<tr><td>Sudhanshu</td><td>Big Data</td><td>5000</td></tr>\n",
       "<tr><td>Sunny</td><td>Data Science</td><td>10000</td></tr>\n",
       "<tr><td>Sunny</td><td>Big Data</td><td>2000</td></tr>\n",
       "</table>\n"
      ],
      "text/plain": [
       "+---------+------------+------+\n",
       "|     Name| Departments|salary|\n",
       "+---------+------------+------+\n",
       "|    Krish|Data Science| 10000|\n",
       "|    Krish|         IOT|  5000|\n",
       "|   Mahesh|    Big Data|  4000|\n",
       "|    Krish|    Big Data|  4000|\n",
       "|   Mahesh|Data Science|  3000|\n",
       "|Sudhanshu|Data Science| 20000|\n",
       "|Sudhanshu|         IOT| 10000|\n",
       "|Sudhanshu|    Big Data|  5000|\n",
       "|    Sunny|Data Science| 10000|\n",
       "|    Sunny|    Big Data|  2000|\n",
       "+---------+------------+------+"
      ]
     },
     "execution_count": 12,
     "metadata": {},
     "output_type": "execute_result"
    }
   ],
   "source": [
    "df_pyspark"
   ]
  },
  {
   "cell_type": "code",
   "execution_count": 13,
   "id": "6e921244-7478-4fe3-a10b-3777b061da54",
   "metadata": {},
   "outputs": [
    {
     "name": "stdout",
     "output_type": "stream",
     "text": [
      "root\n",
      " |-- Name: string (nullable = true)\n",
      " |-- Departments: string (nullable = true)\n",
      " |-- salary: integer (nullable = true)\n",
      "\n"
     ]
    }
   ],
   "source": [
    "df_pyspark.printSchema()"
   ]
  },
  {
   "cell_type": "code",
   "execution_count": 14,
   "id": "e9ee6029-95d2-4545-97f7-56f6db9e4ca9",
   "metadata": {},
   "outputs": [
    {
     "data": {
      "text/html": [
       "<table border='1'>\n",
       "<tr><th>Name</th><th>sum(salary)</th></tr>\n",
       "<tr><td>Sudhanshu</td><td>35000</td></tr>\n",
       "<tr><td>Sunny</td><td>12000</td></tr>\n",
       "<tr><td>Krish</td><td>19000</td></tr>\n",
       "<tr><td>Mahesh</td><td>7000</td></tr>\n",
       "</table>\n"
      ],
      "text/plain": [
       "+---------+-----------+\n",
       "|     Name|sum(salary)|\n",
       "+---------+-----------+\n",
       "|Sudhanshu|      35000|\n",
       "|    Sunny|      12000|\n",
       "|    Krish|      19000|\n",
       "|   Mahesh|       7000|\n",
       "+---------+-----------+"
      ]
     },
     "execution_count": 14,
     "metadata": {},
     "output_type": "execute_result"
    }
   ],
   "source": [
    "## Groupby\n",
    "### Group to find the maximum salary\n",
    "df_pyspark.groupBy('Name').sum()"
   ]
  },
  {
   "cell_type": "code",
   "execution_count": 19,
   "id": "e4277a2a-e614-412d-ab34-641fc6f181e9",
   "metadata": {},
   "outputs": [
    {
     "data": {
      "text/html": [
       "<table border='1'>\n",
       "<tr><th>Departments</th><th>max(salary)</th></tr>\n",
       "<tr><td>IOT</td><td>10000</td></tr>\n",
       "<tr><td>Big Data</td><td>5000</td></tr>\n",
       "<tr><td>Data Science</td><td>20000</td></tr>\n",
       "</table>\n"
      ],
      "text/plain": [
       "+------------+-----------+\n",
       "| Departments|max(salary)|\n",
       "+------------+-----------+\n",
       "|         IOT|      10000|\n",
       "|    Big Data|       5000|\n",
       "|Data Science|      20000|\n",
       "+------------+-----------+"
      ]
     },
     "execution_count": 19,
     "metadata": {},
     "output_type": "execute_result"
    }
   ],
   "source": [
    "## Groupby Departments which gives maximum salary\n",
    "\n",
    "df_pyspark.groupBy('Departments').max()\n"
   ]
  },
  {
   "cell_type": "code",
   "execution_count": 22,
   "id": "737fdb5f-546b-4320-9c49-bedc623fe5e6",
   "metadata": {},
   "outputs": [
    {
     "data": {
      "text/html": [
       "<table border='1'>\n",
       "<tr><th>Departments</th><th>min(salary)</th></tr>\n",
       "<tr><td>IOT</td><td>5000</td></tr>\n",
       "<tr><td>Big Data</td><td>2000</td></tr>\n",
       "<tr><td>Data Science</td><td>3000</td></tr>\n",
       "</table>\n"
      ],
      "text/plain": [
       "+------------+-----------+\n",
       "| Departments|min(salary)|\n",
       "+------------+-----------+\n",
       "|         IOT|       5000|\n",
       "|    Big Data|       2000|\n",
       "|Data Science|       3000|\n",
       "+------------+-----------+"
      ]
     },
     "execution_count": 22,
     "metadata": {},
     "output_type": "execute_result"
    }
   ],
   "source": [
    "df_pyspark.groupBy('Departments').min()"
   ]
  },
  {
   "cell_type": "code",
   "execution_count": 20,
   "id": "5541754d-593f-4bb4-b8bf-b877d982fcbf",
   "metadata": {},
   "outputs": [
    {
     "data": {
      "text/html": [
       "<table border='1'>\n",
       "<tr><th>Departments</th><th>avg(salary)</th></tr>\n",
       "<tr><td>IOT</td><td>7500.0</td></tr>\n",
       "<tr><td>Big Data</td><td>3750.0</td></tr>\n",
       "<tr><td>Data Science</td><td>10750.0</td></tr>\n",
       "</table>\n"
      ],
      "text/plain": [
       "+------------+-----------+\n",
       "| Departments|avg(salary)|\n",
       "+------------+-----------+\n",
       "|         IOT|     7500.0|\n",
       "|    Big Data|     3750.0|\n",
       "|Data Science|    10750.0|\n",
       "+------------+-----------+"
      ]
     },
     "execution_count": 20,
     "metadata": {},
     "output_type": "execute_result"
    }
   ],
   "source": [
    "df_pyspark.groupBy('Departments').mean()"
   ]
  },
  {
   "cell_type": "code",
   "execution_count": 23,
   "id": "73390a2b-8145-4a9d-962d-5a7d94cbc565",
   "metadata": {},
   "outputs": [
    {
     "data": {
      "text/html": [
       "<table border='1'>\n",
       "<tr><th>Departments</th><th>count</th></tr>\n",
       "<tr><td>IOT</td><td>2</td></tr>\n",
       "<tr><td>Big Data</td><td>4</td></tr>\n",
       "<tr><td>Data Science</td><td>4</td></tr>\n",
       "</table>\n"
      ],
      "text/plain": [
       "+------------+-----+\n",
       "| Departments|count|\n",
       "+------------+-----+\n",
       "|         IOT|    2|\n",
       "|    Big Data|    4|\n",
       "|Data Science|    4|\n",
       "+------------+-----+"
      ]
     },
     "execution_count": 23,
     "metadata": {},
     "output_type": "execute_result"
    }
   ],
   "source": [
    "df_pyspark.groupBy('Departments').count()"
   ]
  },
  {
   "cell_type": "code",
   "execution_count": 24,
   "id": "fd553f42-8f50-43d9-bd07-53780424b7ae",
   "metadata": {},
   "outputs": [
    {
     "data": {
      "text/html": [
       "<table border='1'>\n",
       "<tr><th>sum(Salary)</th></tr>\n",
       "<tr><td>73000</td></tr>\n",
       "</table>\n"
      ],
      "text/plain": [
       "+-----------+\n",
       "|sum(Salary)|\n",
       "+-----------+\n",
       "|      73000|\n",
       "+-----------+"
      ]
     },
     "execution_count": 24,
     "metadata": {},
     "output_type": "execute_result"
    }
   ],
   "source": [
    "df_pyspark.agg(({'Salary': 'sum'}))"
   ]
  },
  {
   "cell_type": "code",
   "execution_count": null,
   "id": "9ab9ca49-1a7d-4e0f-8a5c-3c295f99d66c",
   "metadata": {},
   "outputs": [],
   "source": []
  }
 ],
 "metadata": {
  "kernelspec": {
   "display_name": "Python 3 (ipykernel)",
   "language": "python",
   "name": "python3"
  },
  "language_info": {
   "codemirror_mode": {
    "name": "ipython",
    "version": 3
   },
   "file_extension": ".py",
   "mimetype": "text/x-python",
   "name": "python",
   "nbconvert_exporter": "python",
   "pygments_lexer": "ipython3",
   "version": "3.8.10"
  }
 },
 "nbformat": 4,
 "nbformat_minor": 5
}
