{
 "cells": [
  {
   "cell_type": "code",
   "execution_count": 9,
   "id": "f4dd65fb-7b4c-480c-a0fa-6ab4b732b91e",
   "metadata": {},
   "outputs": [],
   "source": [
    "from pyspark.sql import SparkSession\n",
    "spark = SparkSession.builder.appName('Missin').getOrCreate()\n",
    "spark.conf.set('spark.sql.repl.eagerEval.enabled', True)"
   ]
  },
  {
   "cell_type": "code",
   "execution_count": 10,
   "id": "558c8755-5bc2-4452-9d6f-816e6e1bd3c7",
   "metadata": {},
   "outputs": [],
   "source": [
    "training = spark.read.csv('files/test1.csv', header=True, inferSchema=True)"
   ]
  },
  {
   "cell_type": "code",
   "execution_count": 12,
   "id": "680c3584-e17a-4e1a-9676-d94bf72f0c01",
   "metadata": {},
   "outputs": [
    {
     "data": {
      "text/html": [
       "<table border='1'>\n",
       "<tr><th>Name</th><th>age</th><th>Experience</th><th>Salary</th></tr>\n",
       "<tr><td>Krish</td><td>31</td><td>10</td><td>30000</td></tr>\n",
       "<tr><td>Sudhanshu</td><td>30</td><td>8</td><td>25000</td></tr>\n",
       "<tr><td>Sunny</td><td>29</td><td>4</td><td>20000</td></tr>\n",
       "<tr><td>Paul</td><td>24</td><td>3</td><td>20000</td></tr>\n",
       "<tr><td>Harsha</td><td>21</td><td>1</td><td>15000</td></tr>\n",
       "<tr><td>Shubham</td><td>23</td><td>2</td><td>18000</td></tr>\n",
       "</table>\n"
      ],
      "text/plain": [
       "+---------+---+----------+------+\n",
       "|     Name|age|Experience|Salary|\n",
       "+---------+---+----------+------+\n",
       "|    Krish| 31|        10| 30000|\n",
       "|Sudhanshu| 30|         8| 25000|\n",
       "|    Sunny| 29|         4| 20000|\n",
       "|     Paul| 24|         3| 20000|\n",
       "|   Harsha| 21|         1| 15000|\n",
       "|  Shubham| 23|         2| 18000|\n",
       "+---------+---+----------+------+"
      ]
     },
     "execution_count": 12,
     "metadata": {},
     "output_type": "execute_result"
    }
   ],
   "source": [
    "training"
   ]
  },
  {
   "cell_type": "code",
   "execution_count": 13,
   "id": "a94f23e1-4c9a-42c8-ad97-5bbecf4d7381",
   "metadata": {},
   "outputs": [
    {
     "name": "stdout",
     "output_type": "stream",
     "text": [
      "root\n",
      " |-- Name: string (nullable = true)\n",
      " |-- age: integer (nullable = true)\n",
      " |-- Experience: integer (nullable = true)\n",
      " |-- Salary: integer (nullable = true)\n",
      "\n"
     ]
    }
   ],
   "source": [
    "training.printSchema()"
   ]
  },
  {
   "cell_type": "code",
   "execution_count": 15,
   "id": "bced65b9-4a83-43d8-9f5b-956e81d598a6",
   "metadata": {},
   "outputs": [
    {
     "data": {
      "text/plain": [
       "['Name', 'age', 'Experience', 'Salary']"
      ]
     },
     "execution_count": 15,
     "metadata": {},
     "output_type": "execute_result"
    }
   ],
   "source": [
    "training.columns"
   ]
  },
  {
   "cell_type": "code",
   "execution_count": 16,
   "id": "8cfe7d58-7720-40e3-bc05-b268cbfe5d25",
   "metadata": {},
   "outputs": [
    {
     "data": {
      "text/plain": [
       "list"
      ]
     },
     "execution_count": 16,
     "metadata": {},
     "output_type": "execute_result"
    }
   ],
   "source": [
    "columns = training.columns\n",
    "type(columns)"
   ]
  },
  {
   "cell_type": "code",
   "execution_count": 26,
   "id": "6737ee4f-5407-41eb-a2bd-1ebad00dae68",
   "metadata": {},
   "outputs": [],
   "source": [
    "from pyspark.ml.feature import VectorAssembler\n",
    "featureassenbker = VectorAssembler(\n",
    "    inputCols=columns[1:3], outputCol=\"Independent Features\"\n",
    "                                  )"
   ]
  },
  {
   "cell_type": "code",
   "execution_count": 27,
   "id": "517d44f0-f5bb-4483-9b42-a896bdaad621",
   "metadata": {},
   "outputs": [
    {
     "data": {
      "text/html": [
       "<table border='1'>\n",
       "<tr><th>Name</th><th>age</th><th>Experience</th><th>Salary</th><th>Independent Features</th></tr>\n",
       "<tr><td>Krish</td><td>31</td><td>10</td><td>30000</td><td>[31.0,10.0]</td></tr>\n",
       "<tr><td>Sudhanshu</td><td>30</td><td>8</td><td>25000</td><td>[30.0,8.0]</td></tr>\n",
       "<tr><td>Sunny</td><td>29</td><td>4</td><td>20000</td><td>[29.0,4.0]</td></tr>\n",
       "<tr><td>Paul</td><td>24</td><td>3</td><td>20000</td><td>[24.0,3.0]</td></tr>\n",
       "<tr><td>Harsha</td><td>21</td><td>1</td><td>15000</td><td>[21.0,1.0]</td></tr>\n",
       "<tr><td>Shubham</td><td>23</td><td>2</td><td>18000</td><td>[23.0,2.0]</td></tr>\n",
       "</table>\n"
      ],
      "text/plain": [
       "+---------+---+----------+------+--------------------+\n",
       "|     Name|age|Experience|Salary|Independent Features|\n",
       "+---------+---+----------+------+--------------------+\n",
       "|    Krish| 31|        10| 30000|         [31.0,10.0]|\n",
       "|Sudhanshu| 30|         8| 25000|          [30.0,8.0]|\n",
       "|    Sunny| 29|         4| 20000|          [29.0,4.0]|\n",
       "|     Paul| 24|         3| 20000|          [24.0,3.0]|\n",
       "|   Harsha| 21|         1| 15000|          [21.0,1.0]|\n",
       "|  Shubham| 23|         2| 18000|          [23.0,2.0]|\n",
       "+---------+---+----------+------+--------------------+"
      ]
     },
     "execution_count": 27,
     "metadata": {},
     "output_type": "execute_result"
    }
   ],
   "source": [
    "output = featureassenbker.transform(training)\n",
    "output"
   ]
  },
  {
   "cell_type": "code",
   "execution_count": 28,
   "id": "7551c0bd-9b25-40d6-9796-c7b576326273",
   "metadata": {},
   "outputs": [
    {
     "data": {
      "text/plain": [
       "['Name', 'age', 'Experience', 'Salary', 'Independent Features']"
      ]
     },
     "execution_count": 28,
     "metadata": {},
     "output_type": "execute_result"
    }
   ],
   "source": [
    "output.columns"
   ]
  },
  {
   "cell_type": "code",
   "execution_count": 29,
   "id": "68e774b3-2103-4810-8b6c-54c1f0ffa5ba",
   "metadata": {},
   "outputs": [
    {
     "data": {
      "text/html": [
       "<table border='1'>\n",
       "<tr><th>Independent Features</th><th>Salary</th></tr>\n",
       "<tr><td>[31.0,10.0]</td><td>30000</td></tr>\n",
       "<tr><td>[30.0,8.0]</td><td>25000</td></tr>\n",
       "<tr><td>[29.0,4.0]</td><td>20000</td></tr>\n",
       "<tr><td>[24.0,3.0]</td><td>20000</td></tr>\n",
       "<tr><td>[21.0,1.0]</td><td>15000</td></tr>\n",
       "<tr><td>[23.0,2.0]</td><td>18000</td></tr>\n",
       "</table>\n"
      ],
      "text/plain": [
       "+--------------------+------+\n",
       "|Independent Features|Salary|\n",
       "+--------------------+------+\n",
       "|         [31.0,10.0]| 30000|\n",
       "|          [30.0,8.0]| 25000|\n",
       "|          [29.0,4.0]| 20000|\n",
       "|          [24.0,3.0]| 20000|\n",
       "|          [21.0,1.0]| 15000|\n",
       "|          [23.0,2.0]| 18000|\n",
       "+--------------------+------+"
      ]
     },
     "execution_count": 29,
     "metadata": {},
     "output_type": "execute_result"
    }
   ],
   "source": [
    "finalized_data = output.select(\"Independent Features\", \"Salary\")\n",
    "finalized_data"
   ]
  },
  {
   "cell_type": "code",
   "execution_count": null,
   "id": "efe7f702-50a4-46ef-be17-2787e2116bb5",
   "metadata": {},
   "outputs": [],
   "source": [
    "from pyspark.ml.regression import LinearRegression"
   ]
  },
  {
   "cell_type": "code",
   "execution_count": 44,
   "id": "31da40df-e785-45d6-b49a-9b603b92c764",
   "metadata": {},
   "outputs": [
    {
     "name": "stdout",
     "output_type": "stream",
     "text": [
      "22/10/26 02:15:09 WARN Instrumentation: [bad5333a] regParam is zero, which might cause numerical instability and overfitting.\n"
     ]
    }
   ],
   "source": [
    "\n",
    "train_data, test_data = finalized_data.randomSplit([.75, .25])\n",
    "regressor = LinearRegression(featuresCol=\"Independent Features\", labelCol=\"Salary\")\n",
    "regressor = regressor.fit(train_data)"
   ]
  },
  {
   "cell_type": "code",
   "execution_count": 45,
   "id": "81a0a1e4-163a-482b-af63-2cadbcddaddc",
   "metadata": {},
   "outputs": [
    {
     "data": {
      "text/plain": [
       "DenseVector([-102.53, 1688.6818])"
      ]
     },
     "execution_count": 45,
     "metadata": {},
     "output_type": "execute_result"
    }
   ],
   "source": [
    "regressor.coefficients"
   ]
  },
  {
   "cell_type": "code",
   "execution_count": 46,
   "id": "7a5cc4a0-da7b-45bd-a91c-66481541ea08",
   "metadata": {},
   "outputs": [
    {
     "data": {
      "text/plain": [
       "16470.03994673731"
      ]
     },
     "execution_count": 46,
     "metadata": {},
     "output_type": "execute_result"
    }
   ],
   "source": [
    "regressor.intercept"
   ]
  },
  {
   "cell_type": "code",
   "execution_count": 47,
   "id": "65e03b34-9461-4604-9124-d40ee5a490fd",
   "metadata": {},
   "outputs": [
    {
     "data": {
      "text/html": [
       "<table border='1'>\n",
       "<tr><th>Independent Features</th><th>Salary</th><th>prediction</th></tr>\n",
       "<tr><td>[30.0,8.0]</td><td>25000</td><td>26903.59520639148</td></tr>\n",
       "</table>\n"
      ],
      "text/plain": [
       "+--------------------+------+-----------------+\n",
       "|Independent Features|Salary|       prediction|\n",
       "+--------------------+------+-----------------+\n",
       "|          [30.0,8.0]| 25000|26903.59520639148|\n",
       "+--------------------+------+-----------------+"
      ]
     },
     "execution_count": 47,
     "metadata": {},
     "output_type": "execute_result"
    }
   ],
   "source": [
    "pred_results = regressor.evaluate(test_data)\n",
    "pred_results.predictions"
   ]
  },
  {
   "cell_type": "code",
   "execution_count": 48,
   "id": "23086fe2-60a1-43fe-a5ed-2fed52087013",
   "metadata": {},
   "outputs": [
    {
     "data": {
      "text/plain": [
       "(1903.595206391481, 3623674.709796625)"
      ]
     },
     "execution_count": 48,
     "metadata": {},
     "output_type": "execute_result"
    }
   ],
   "source": [
    "pred_results.meanAbsoluteError, pred_results.meanSquaredError"
   ]
  },
  {
   "cell_type": "code",
   "execution_count": null,
   "id": "9bdedfc8-aae4-4919-a04d-64b011ab3a4f",
   "metadata": {},
   "outputs": [],
   "source": []
  }
 ],
 "metadata": {
  "kernelspec": {
   "display_name": "Python 3 (ipykernel)",
   "language": "python",
   "name": "python3"
  },
  "language_info": {
   "codemirror_mode": {
    "name": "ipython",
    "version": 3
   },
   "file_extension": ".py",
   "mimetype": "text/x-python",
   "name": "python",
   "nbconvert_exporter": "python",
   "pygments_lexer": "ipython3",
   "version": "3.8.10"
  }
 },
 "nbformat": 4,
 "nbformat_minor": 5
}
